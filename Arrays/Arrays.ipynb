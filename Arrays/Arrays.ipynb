{
 "cells": [
  {
   "cell_type": "markdown",
   "metadata": {},
   "source": [
    "# Arrays(Mutable)"
   ]
  },
  {
   "cell_type": "markdown",
   "metadata": {},
   "source": [
    "Collection or ordered series of elements of same type.Array elements are accessed using indexes(Start : 0 end : arrlen-1)"
   ]
  },
  {
   "cell_type": "markdown",
   "metadata": {},
   "source": [
    "Differences between Arrays and lists : \n",
    "\n",
    "1 . Arrays can take single data type value, whereas in lists we can store multiple data type values.\n",
    "\n",
    "2. With Arrays, we can perform different operations like multiplying all the elements with 2 since they are all of same type\n",
    "        When we try to do the same on list it would throw an error as list may  contain other data types."
   ]
  },
  {
   "cell_type": "code",
   "execution_count": 5,
   "metadata": {},
   "outputs": [],
   "source": [
    "#import array module\n",
    "import array as arr #as is used for aliasing\n"
   ]
  },
  {
   "cell_type": "code",
   "execution_count": 27,
   "metadata": {
    "scrolled": true
   },
   "outputs": [
    {
     "name": "stdout",
     "output_type": "stream",
     "text": [
      "1 2 3 \r\n",
      "2.5 3.2 3.3\n",
      "2.5 3.2 3.3 5.5\n",
      "Extended : array('i', [1, 4, 2, 3, 4, 5])\n"
     ]
    }
   ],
   "source": [
    "a = arr.array('i', [1, 2, 3]) #i means integer type\n",
    "#arr = module, array = array constructor , i = type code\n",
    "# [1,2,3] are array elements\n",
    "\n",
    "for i in range(0,len(a)): #length function is same as list\n",
    "    print(a[i],end = \" \")\n",
    "print(\"\\r\")  \n",
    "\n",
    "# creating an array with float type \n",
    "b = arr.array('d', [2.5, 3.2, 3.3]) \n",
    "print(*b)"
   ]
  },
  {
   "cell_type": "markdown",
   "metadata": {},
   "source": [
    "## Adding elements"
   ]
  },
  {
   "cell_type": "code",
   "execution_count": null,
   "metadata": {},
   "outputs": [],
   "source": [
    "b.append(5.5) # append function\n",
    "print(*b)\n",
    "\n",
    "# inserting array using  \n",
    "# insert() function \n",
    "a.insert(1, 4)\n",
    "\n",
    "#extend() function(same type array has to be used)\n",
    "a.extend([4,5])\n",
    "print(\"Extended :\" , a)\n"
   ]
  },
  {
   "cell_type": "markdown",
   "metadata": {},
   "source": [
    "## Removing elements"
   ]
  },
  {
   "cell_type": "code",
   "execution_count": 31,
   "metadata": {},
   "outputs": [],
   "source": [
    "#a.remove(1) and a.pop() are same as list\n",
    "\n",
    "#pop fn will remove and retuen last element, \n",
    "      #we can also specify the index\n",
    "    \n",
    "#remove fn will remove but not return anything,1 is ele\n"
   ]
  },
  {
   "cell_type": "markdown",
   "metadata": {},
   "source": [
    "## Acessing elements"
   ]
  },
  {
   "cell_type": "code",
   "execution_count": 16,
   "metadata": {},
   "outputs": [
    {
     "name": "stdout",
     "output_type": "stream",
     "text": [
      "array('i', [1, 4, 4, 4, 2, 3])\n",
      "5.5\n"
     ]
    }
   ],
   "source": [
    "#accessing with indexes\n",
    "print(b[3])\n",
    "\n",
    "#getting indexes.\n",
    "a.index(3) #searching for the index of an element\n",
    "a.index(5) # if ele not present it throws an error."
   ]
  },
  {
   "cell_type": "markdown",
   "metadata": {},
   "source": [
    "## Slicing"
   ]
  },
  {
   "cell_type": "code",
   "execution_count": 20,
   "metadata": {},
   "outputs": [
    {
     "name": "stdout",
     "output_type": "stream",
     "text": [
      "array('i', [2, 3])\n"
     ]
    }
   ],
   "source": [
    "print(a[:3]) #slicing [start:stop:step]\n",
    "# deafult values of start = 0,stop = arrlen,step = 1\n",
    "\n",
    "#a[::-1] \n",
    "#prints reversed copy but is not preferred as it exhausts memory."
   ]
  },
  {
   "cell_type": "markdown",
   "metadata": {},
   "source": [
    "## Updating Array"
   ]
  },
  {
   "cell_type": "code",
   "execution_count": 23,
   "metadata": {},
   "outputs": [
    {
     "name": "stdout",
     "output_type": "stream",
     "text": [
      "1 2 7\n"
     ]
    }
   ],
   "source": [
    "a[2] = 7 #Updation\n",
    "print(*a)"
   ]
  },
  {
   "cell_type": "markdown",
   "metadata": {},
   "source": [
    "## Array concatenation"
   ]
  },
  {
   "cell_type": "code",
   "execution_count": null,
   "metadata": {},
   "outputs": [],
   "source": [
    "#array concatenation\n",
    "x = arr.array('i', [1, 2, 3])\n",
    "y = arr.array('i', [0, 11, 23]) \n",
    "z = x + y #same type arrays has to be concatenated.\n",
    "print(z)"
   ]
  },
  {
   "cell_type": "code",
   "execution_count": null,
   "metadata": {},
   "outputs": [],
   "source": []
  }
 ],
 "metadata": {
  "kernelspec": {
   "display_name": "Python 3",
   "language": "python",
   "name": "python3"
  },
  "language_info": {
   "codemirror_mode": {
    "name": "ipython",
    "version": 3
   },
   "file_extension": ".py",
   "mimetype": "text/x-python",
   "name": "python",
   "nbconvert_exporter": "python",
   "pygments_lexer": "ipython3",
   "version": "3.7.0"
  }
 },
 "nbformat": 4,
 "nbformat_minor": 2
}
