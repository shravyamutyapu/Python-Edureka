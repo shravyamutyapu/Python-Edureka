{
 "cells": [
  {
   "cell_type": "markdown",
   "metadata": {},
   "source": [
    "# Type Conversion : "
   ]
  },
  {
   "cell_type": "markdown",
   "metadata": {},
   "source": [
    "These functions convert the values of one datat type to another.\n",
    "\n",
    "int(value,base) converts it a value to int similar with float()."
   ]
  },
  {
   "cell_type": "code",
   "execution_count": 5,
   "metadata": {},
   "outputs": [
    {
     "data": {
      "text/plain": [
       "100.0"
      ]
     },
     "execution_count": 5,
     "metadata": {},
     "output_type": "execute_result"
    }
   ],
   "source": [
    "int(\"010\",2) # binary coversion\n",
    "float(100) # appends.0 to the given value\n",
    "# If we give string it throws type error."
   ]
  },
  {
   "cell_type": "markdown",
   "metadata": {},
   "source": [
    "ord() : It gives the ascii value of the given value.\n",
    "hex() : It gives the hexadecimal value of given value.\n",
    "oct() : gives the octadecimal value."
   ]
  },
  {
   "cell_type": "code",
   "execution_count": 13,
   "metadata": {},
   "outputs": [
    {
     "name": "stdout",
     "output_type": "stream",
     "text": [
      "44\n"
     ]
    },
    {
     "data": {
      "text/plain": [
       "'0o62'"
      ]
     },
     "execution_count": 13,
     "metadata": {},
     "output_type": "execute_result"
    }
   ],
   "source": [
    "s = \",\"\n",
    "num = 50\n",
    "print(ord(s))\n",
    "#ord(5) #ord function does not work for numbers.\n",
    "hex(num)\n",
    "oct(num)"
   ]
  },
  {
   "cell_type": "markdown",
   "metadata": {},
   "source": [
    "6. tuple() : This function is used to convert to a tuple.Used when we would not want to edit a set of nums.\n",
    "\n",
    "7. set() : This function returns the type after converting to set.Used when we want to ignores duplicates and these values are unordered..\n",
    "\n",
    "8. list() : This function is used to convert any data type to a list type.Used when we want to access values and modify the given set of values."
   ]
  },
  {
   "cell_type": "code",
   "execution_count": 17,
   "metadata": {},
   "outputs": [
    {
     "name": "stdout",
     "output_type": "stream",
     "text": [
      "('S', 'h', 'r', 'a', 'v', 'y', 'a')\n",
      "['S', 'h', 'r', 'a', 'v', 'y', 'a']\n",
      "{'a', 'r', 'h', 'S', 'v', 'y'}\n"
     ]
    }
   ],
   "source": [
    "s = \"Shravya\" # If string is given it is split to letters.\n",
    "print(tuple(s))\n",
    "print(list(s))\n",
    "print(set(s))\n",
    "#print(dict(s))# won't work"
   ]
  },
  {
   "cell_type": "markdown",
   "metadata": {},
   "source": [
    "9. dict() : This function is used to convert a tuple of order (key,value) into a dictionary.\n",
    "\n",
    "10. str() : Used to convert integer into a string.\n",
    "\n",
    "11. complex(real,imag) : : This function converts real numbers to complex(real,imag) number."
   ]
  },
  {
   "cell_type": "code",
   "execution_count": 18,
   "metadata": {},
   "outputs": [
    {
     "data": {
      "text/plain": [
       "{'a': 1, 'f': 2, 'g': 3}"
      ]
     },
     "execution_count": 18,
     "metadata": {},
     "output_type": "execute_result"
    }
   ],
   "source": [
    "# initializing tuple \n",
    "tup = (('a', 1) ,('f', 2), ('g', 3))\n",
    "dict(tup) #conversion to dict"
   ]
  },
  {
   "cell_type": "code",
   "execution_count": 20,
   "metadata": {},
   "outputs": [
    {
     "name": "stdout",
     "output_type": "stream",
     "text": [
      "(1+2j)\n",
      "45678\n"
     ]
    }
   ],
   "source": [
    "c = complex(1,2)\n",
    "print(c)\n",
    "c = 45678\n",
    "print(str(c))"
   ]
  },
  {
   "cell_type": "markdown",
   "metadata": {},
   "source": [
    "# Collections"
   ]
  },
  {
   "cell_type": "markdown",
   "metadata": {},
   "source": [
    "This module implements specialized container data types by providing alternatives to python's geeral purpose built-in containers dict,list,set and tuple.\n",
    "\n",
    "https://docs.python.org/3/library/collections.html"
   ]
  },
  {
   "cell_type": "markdown",
   "metadata": {},
   "source": [
    "Collections have to be studied in detail."
   ]
  }
 ],
 "metadata": {
  "kernelspec": {
   "display_name": "Python 3",
   "language": "python",
   "name": "python3"
  },
  "language_info": {
   "codemirror_mode": {
    "name": "ipython",
    "version": 3
   },
   "file_extension": ".py",
   "mimetype": "text/x-python",
   "name": "python",
   "nbconvert_exporter": "python",
   "pygments_lexer": "ipython3",
   "version": "3.7.0"
  }
 },
 "nbformat": 4,
 "nbformat_minor": 2
}
