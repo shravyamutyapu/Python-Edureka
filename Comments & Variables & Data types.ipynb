{
 "cells": [
  {
   "cell_type": "markdown",
   "metadata": {},
   "source": [
    "# PYTHON IS A CASE-SENSITIVE LANGUAGE"
   ]
  },
  {
   "cell_type": "markdown",
   "metadata": {},
   "source": [
    "# Comments"
   ]
  },
  {
   "cell_type": "markdown",
   "metadata": {},
   "source": [
    "Comments are programmer-coherent statements & describe what a block of code means or does.\n",
    "Comments are highly useful for those who are using our codes after us.\n",
    "\n",
    "\n",
    "Comments are ignored by the interpreter.They are only useful for those who read the code and understand its functionality."
   ]
  },
  {
   "cell_type": "code",
   "execution_count": 11,
   "metadata": {},
   "outputs": [
    {
     "data": {
      "text/plain": [
       "10"
      ]
     },
     "execution_count": 11,
     "metadata": {},
     "output_type": "execute_result"
    }
   ],
   "source": [
    "#this is a single-line comment\n",
    "a = 10\n",
    "a"
   ]
  },
  {
   "cell_type": "markdown",
   "metadata": {},
   "source": [
    "Comments have to be block specific,least redundant,specific to particular block of code, crisp & precise."
   ]
  },
  {
   "cell_type": "markdown",
   "metadata": {},
   "source": [
    "## Doc-String comments"
   ]
  },
  {
   "cell_type": "markdown",
   "metadata": {},
   "source": [
    "They are not same as multi-line comments but can be used as multi-line comments.They are not ignored by the interpreter."
   ]
  },
  {
   "cell_type": "code",
   "execution_count": 2,
   "metadata": {},
   "outputs": [
    {
     "data": {
      "text/plain": [
       "' This is a doc string'"
      ]
     },
     "execution_count": 2,
     "metadata": {},
     "output_type": "execute_result"
    }
   ],
   "source": [
    "#when doc-string alone is used then it returns a string\n",
    "\"\"\" This is a doc string\"\"\""
   ]
  },
  {
   "cell_type": "code",
   "execution_count": 6,
   "metadata": {},
   "outputs": [
    {
     "name": "stdout",
     "output_type": "stream",
     "text": [
      "2\n"
     ]
    },
    {
     "data": {
      "text/plain": [
       "'When placed at the end it returns \\n  a string again'"
      ]
     },
     "execution_count": 6,
     "metadata": {},
     "output_type": "execute_result"
    }
   ],
   "source": [
    "#when doc-string is used above the code it does return string\n",
    "\"\"\"\n",
    "multi-line\n",
    "comment\n",
    "\"\"\"\n",
    "a = 2\n",
    "print(a)\n",
    "\"\"\"When placed at the end it returns \n",
    "  a string again\"\"\""
   ]
  },
  {
   "cell_type": "markdown",
   "metadata": {},
   "source": [
    "# Variables"
   ]
  },
  {
   "cell_type": "markdown",
   "metadata": {},
   "source": [
    "Variables in python have unique features like:\n",
    "    Creation = Declartion\n",
    "    We need not give data type while declaring.\n",
    "    E.g : a = 10 and we are done declaring a variable.\n",
    "    We can perform arithemetic operations on variables."
   ]
  },
  {
   "cell_type": "code",
   "execution_count": 10,
   "metadata": {},
   "outputs": [
    {
     "name": "stdout",
     "output_type": "stream",
     "text": [
      "10\n",
      "<class 'int'>\n",
      "<class 'str'> <class 'str'>\n"
     ]
    }
   ],
   "source": [
    "a = 10 #declaring a variable\n",
    "print(a)\n",
    "print(type(a)) #type is a built-in fn that returns the type of variable.\n",
    "b = 'Shravya'\n",
    "c = \"Mutyapu\"#strings can be declared in single or double quotes\n",
    "print(type(b),type(c))"
   ]
  },
  {
   "cell_type": "markdown",
   "metadata": {},
   "source": [
    "# DataTypes"
   ]
  },
  {
   "cell_type": "markdown",
   "metadata": {},
   "source": [
    "There are 6 different data types in python"
   ]
  },
  {
   "cell_type": "markdown",
   "metadata": {},
   "source": [
    "1 . Numeric : It includes int,float & complex depending on the value we assign to the variable."
   ]
  },
  {
   "cell_type": "code",
   "execution_count": 2,
   "metadata": {},
   "outputs": [],
   "source": [
    "x = 10 #integers\n",
    "y = 12.36 #float\n",
    "z = 25j #complex\n",
    "a = True #boolean is used for categorical o/p\n",
    "num = 10 > 9#is also a bool type var."
   ]
  },
  {
   "cell_type": "markdown",
   "metadata": {},
   "source": [
    "2. String : Strings are written in single or double quotes.\n",
    "Eg : x = \"hi\"\n",
    "     y = 'Shravya'"
   ]
  },
  {
   "cell_type": "code",
   "execution_count": 1,
   "metadata": {
    "scrolled": true
   },
   "outputs": [
    {
     "data": {
      "text/plain": [
       "'r'"
      ]
     },
     "execution_count": 1,
     "metadata": {},
     "output_type": "execute_result"
    }
   ],
   "source": [
    "y = \"Shravya\"\n",
    "len(y) #length is 7 and indices start from 0 to length-1\n",
    "y[2]"
   ]
  },
  {
   "cell_type": "code",
   "execution_count": 5,
   "metadata": {
    "scrolled": false
   },
   "outputs": [
    {
     "ename": "TypeError",
     "evalue": "'str' object does not support item assignment",
     "output_type": "error",
     "traceback": [
      "\u001b[1;31m---------------------------------------------------------------------------\u001b[0m",
      "\u001b[1;31mTypeError\u001b[0m                                 Traceback (most recent call last)",
      "\u001b[1;32m<ipython-input-5-2154e790de43>\u001b[0m in \u001b[0;36m<module>\u001b[1;34m\u001b[0m\n\u001b[1;32m----> 1\u001b[1;33m \u001b[0my\u001b[0m\u001b[1;33m[\u001b[0m\u001b[1;36m2\u001b[0m\u001b[1;33m]\u001b[0m \u001b[1;33m=\u001b[0m \u001b[1;34m\"p\"\u001b[0m \u001b[1;31m#Strings cannot be changed (i.e they are immutable)\u001b[0m\u001b[1;33m\u001b[0m\u001b[0m\n\u001b[0m",
      "\u001b[1;31mTypeError\u001b[0m: 'str' object does not support item assignment"
     ]
    }
   ],
   "source": [
    "y[2] = \"p\" #Strings cannot be changed (i.e they are immutable)"
   ]
  },
  {
   "cell_type": "code",
   "execution_count": 6,
   "metadata": {},
   "outputs": [
    {
     "data": {
      "text/plain": [
       "'rav'"
      ]
     },
     "execution_count": 6,
     "metadata": {},
     "output_type": "execute_result"
    }
   ],
   "source": [
    "y[2:5] #This concept is called slicing\n",
    "#Slicing : StringName[start:stop:step(optional)]\n",
    "#last index can be 6 or -1\n",
    "#first index is 0 or -7"
   ]
  },
  {
   "cell_type": "code",
   "execution_count": null,
   "metadata": {},
   "outputs": [],
   "source": [
    "y.lower() #changes all the letters to lowercase\n",
    "y.upper() #uppercase"
   ]
  },
  {
   "cell_type": "markdown",
   "metadata": {},
   "source": [
    "3 . Lists : Collection of items.Can be of different type.Holds duplicate entries and are ordered and lists are mutable."
   ]
  },
  {
   "cell_type": "code",
   "execution_count": 7,
   "metadata": {},
   "outputs": [],
   "source": [
    "lis = [] #list declaration."
   ]
  },
  {
   "cell_type": "code",
   "execution_count": 29,
   "metadata": {},
   "outputs": [],
   "source": [
    "lis = [10,20,30,30,'Shravya',True]"
   ]
  },
  {
   "cell_type": "code",
   "execution_count": 10,
   "metadata": {},
   "outputs": [],
   "source": [
    "lis[2] = 25 #to change the value in a list."
   ]
  },
  {
   "cell_type": "code",
   "execution_count": 36,
   "metadata": {
    "scrolled": true
   },
   "outputs": [
    {
     "data": {
      "text/plain": [
       "[10, 6, 6]"
      ]
     },
     "execution_count": 36,
     "metadata": {},
     "output_type": "execute_result"
    }
   ],
   "source": [
    "lis #check if changes are successful."
   ]
  },
  {
   "cell_type": "code",
   "execution_count": 39,
   "metadata": {},
   "outputs": [],
   "source": [
    "lis.append(12) # append fn adds the value at the end."
   ]
  },
  {
   "cell_type": "code",
   "execution_count": null,
   "metadata": {},
   "outputs": [],
   "source": [
    "lis.remove(12) #removes the value from the lis\n",
    "##No removeAll function available."
   ]
  },
  {
   "cell_type": "code",
   "execution_count": 35,
   "metadata": {},
   "outputs": [],
   "source": [
    "del lis[1:3] #deletes values with indices 2,3\n",
    "lis.pop() #deletes the last element in the lis\n",
    "lis.insert(6,6) # when the given index is unavailable it appends at the end.(ind,val)\n",
    "lis.sort()\n",
    "lis.reverse() #reverses the elements order in the list."
   ]
  },
  {
   "cell_type": "code",
   "execution_count": 37,
   "metadata": {},
   "outputs": [
    {
     "data": {
      "text/plain": [
       "[10, 6, 6, 2, 3]"
      ]
     },
     "execution_count": 37,
     "metadata": {},
     "output_type": "execute_result"
    }
   ],
   "source": [
    "x = [2,3]\n",
    "lis.extend(x) # appends in the end\n",
    "lis\n",
    "lis.clear() # clears all the elemts in the list."
   ]
  },
  {
   "cell_type": "code",
   "execution_count": 4,
   "metadata": {},
   "outputs": [
    {
     "data": {
      "text/plain": [
       "[1, 2, 2, 2]"
      ]
     },
     "execution_count": 4,
     "metadata": {},
     "output_type": "execute_result"
    }
   ],
   "source": [
    "a = [1,4,11,12]\n",
    "b = [2,2,2,2]\n",
    "c = [min(x) for x in zip(a,b)] \n",
    "#zip function finds the minumum by comparing elements of same indexes in 2 lists\n",
    "#if the size of the lists are unequal then it compares until the indexes are equal and the rest are ignored."
   ]
  },
  {
   "cell_type": "markdown",
   "metadata": {},
   "source": [
    "4 . Dictionaries :Unordered,can be changed.No duplicate keys are permitted.Values can be duplicates.It stores objs in the form of key-value pair."
   ]
  },
  {
   "cell_type": "code",
   "execution_count": 7,
   "metadata": {},
   "outputs": [
    {
     "data": {
      "text/plain": [
       "{1: 'python', 2: 'Java', 3: 'ADS', 'four': 'AI/ML'}"
      ]
     },
     "execution_count": 7,
     "metadata": {},
     "output_type": "execute_result"
    }
   ],
   "source": [
    "courses = {} #empty dict declaration\n",
    "courses = {1:\"python\",2: \"Java\",3:\"ADS\",'four':\"AI/ML\"}\n",
    "courses"
   ]
  },
  {
   "cell_type": "code",
   "execution_count": 18,
   "metadata": {},
   "outputs": [
    {
     "name": "stdout",
     "output_type": "stream",
     "text": [
      "[1, 2, 3, 'four']\n",
      "[1, 2, 3, 'four']\n"
     ]
    }
   ],
   "source": [
    "courses['four'] #accesing with indexes or\n",
    "courses.get(3) #accesing using get function.\n",
    "courses[3] = \"Mobile Programming\" #changing the values using indexes.\n",
    "print([*courses]) # returns keys as list\n",
    "print(list(courses.keys())) #same thing in a different way."
   ]
  },
  {
   "cell_type": "code",
   "execution_count": 23,
   "metadata": {},
   "outputs": [
    {
     "name": "stdout",
     "output_type": "stream",
     "text": [
      "{'Paras': None, 'Jain': None, 'Cyware': None}\n",
      "StudentDict {'Paras': None, 'Jain': None, 'Cyware': None}\n",
      "Dct {'Paras': None, 'Jain': None, 'Cyware': None}\n"
     ]
    }
   ],
   "source": [
    "keyList = [\"Paras\", \"Jain\", \"Cyware\"] #intialize the dictionary with keys which are items in the list.\n",
    "  \n",
    "# Using Dictionary comprehension \n",
    "myDict = {key: None for key in keyList} \n",
    "print(myDict)\n",
    "\n",
    "# using fromkeys() method \n",
    "StudentDict = dict.fromkeys(keyList, None)\n",
    "print(\"StudentDict\",StudentDict)\n",
    "\n",
    "# using zip() function to create a dictionary \n",
    "# with keys and same length None value  \n",
    "dct = dict(zip(keyList, [None]*len(keyList)))\n",
    "print(\"Dct\",dct)"
   ]
  },
  {
   "cell_type": "code",
   "execution_count": 24,
   "metadata": {},
   "outputs": [
    {
     "name": "stdout",
     "output_type": "stream",
     "text": [
      "The original list is : ['gfg', 'is', 'best']\n",
      "The constructed dictionary with common value : {'gfg': 4, 'is': 4, 'best': 4}\n"
     ]
    }
   ],
   "source": [
    "# Initialize list with common value\n",
    "test_list = ['gfg', 'is', 'best'] \n",
    "  \n",
    "# printing original list \n",
    "print(\"The original list is : \" + str(test_list)) \n",
    "  \n",
    "# Initialize dictionary with common value \n",
    "# Using fromkeys() \n",
    "res = dict.fromkeys(test_list, 4) \n",
    "  \n",
    "# printing result \n",
    "print(\"The constructed dictionary with common value : \" + str(res)) \n"
   ]
  },
  {
   "cell_type": "code",
   "execution_count": 25,
   "metadata": {},
   "outputs": [
    {
     "data": {
      "text/plain": [
       "{'key1': 'geeks', 'key2': 'for', 'newkey2': 'GEEK', 'key3': 'geeks'}"
      ]
     },
     "execution_count": 25,
     "metadata": {},
     "output_type": "execute_result"
    }
   ],
   "source": [
    "#adding new item to dict\n",
    "\n",
    "dict = {'key1':'geeks', 'key2':'for'} \n",
    "  \n",
    "# using __setitem__ method \n",
    "dict.__setitem__('newkey2', 'GEEK')\n",
    "#using update function\n",
    "dict.update({'key3':'geeks'})\n",
    "\n",
    "dict\n"
   ]
  },
  {
   "cell_type": "markdown",
   "metadata": {},
   "source": [
    "5 . Tuple : Ordered,cannot be changed.Duplicate entries are present.Immutable."
   ]
  },
  {
   "cell_type": "code",
   "execution_count": 29,
   "metadata": {},
   "outputs": [
    {
     "ename": "TypeError",
     "evalue": "'tuple' object does not support item assignment",
     "output_type": "error",
     "traceback": [
      "\u001b[1;31m---------------------------------------------------------------------------\u001b[0m",
      "\u001b[1;31mTypeError\u001b[0m                                 Traceback (most recent call last)",
      "\u001b[1;32m<ipython-input-29-6d91401d2f2a>\u001b[0m in \u001b[0;36m<module>\u001b[1;34m\u001b[0m\n\u001b[0;32m      4\u001b[0m \u001b[0manimals\u001b[0m\u001b[1;33m[\u001b[0m\u001b[1;33m-\u001b[0m\u001b[1;36m1\u001b[0m\u001b[1;33m]\u001b[0m \u001b[1;31m#negative indexing is also possible.\u001b[0m\u001b[1;33m\u001b[0m\u001b[0m\n\u001b[0;32m      5\u001b[0m \u001b[1;31m# animals[1] = \"fnkjl\" #assignment after creation is also not possible.\u001b[0m\u001b[1;33m\u001b[0m\u001b[1;33m\u001b[0m\u001b[0m\n\u001b[1;32m----> 6\u001b[1;33m \u001b[0manimals\u001b[0m\u001b[1;33m[\u001b[0m\u001b[1;36m4\u001b[0m\u001b[1;33m]\u001b[0m \u001b[1;33m=\u001b[0m \u001b[1;34m\"poew\"\u001b[0m\u001b[1;33m\u001b[0m\u001b[0m\n\u001b[0m",
      "\u001b[1;31mTypeError\u001b[0m: 'tuple' object does not support item assignment"
     ]
    }
   ],
   "source": [
    "animals = () # tuple creation.\n",
    "animals = ('dog','cat','cow')\n",
    "animals[1] # accessing with indexes.\n",
    "animals[-1] #negative indexing is also possible.\n",
    "animals[1] = \"fnkjl\" #assignment after creation is also not possible.\n",
    "animals[4] = \"poew\" #no assignment allowed in this way as weel.\n",
    "\n"
   ]
  },
  {
   "cell_type": "code",
   "execution_count": 30,
   "metadata": {},
   "outputs": [
    {
     "name": "stdout",
     "output_type": "stream",
     "text": [
      "<class 'tuple'>\n",
      "<class 'str'>\n"
     ]
    }
   ],
   "source": [
    "thistuple = (\"apple\",)\n",
    "print(type(thistuple))\n",
    "\n",
    "#NOT a tuple : considered as a string\n",
    "thistuple = (\"apple\")\n",
    "print(type(thistuple))\n",
    "\n",
    "del thistuple #this can delete the tuple completely.\n",
    "#removing of one item from tuple is not possible."
   ]
  },
  {
   "cell_type": "code",
   "execution_count": 34,
   "metadata": {},
   "outputs": [
    {
     "name": "stdout",
     "output_type": "stream",
     "text": [
      "('a', 'b', 'c', 1, 2, 3, 3)\n",
      "2\n",
      "0\n",
      "2\n"
     ]
    }
   ],
   "source": [
    "tuple1 = (\"a\", \"b\" , \"c\")\n",
    "tuple2 = (1, 2, 3,3)\n",
    "\n",
    "tuple3 = tuple1 + tuple2\n",
    "print(tuple3) #joining two tuple is possible.\n",
    "\n",
    "print(tuple2.count(3))\n",
    "print(tuple2.count(7))\n",
    "\n",
    "print(tuple2.index(3)) # gives the first occurence."
   ]
  },
  {
   "cell_type": "markdown",
   "metadata": {},
   "source": [
    "6 . SET : Unoredered, No duplicate elements are present.Since it is unordered we cannot use indexing."
   ]
  },
  {
   "cell_type": "code",
   "execution_count": 45,
   "metadata": {},
   "outputs": [
    {
     "data": {
      "text/plain": [
       "{10, 20, 30, 40, 'edureka'}"
      ]
     },
     "execution_count": 45,
     "metadata": {},
     "output_type": "execute_result"
    }
   ],
   "source": [
    "seteg = {10,20,20,30,40,\"edureka\"}\n",
    "seteg # duplicates are ignored."
   ]
  },
  {
   "cell_type": "markdown",
   "metadata": {},
   "source": [
    "Accessing items : We can run a loop and check for a item but cannot access the items using indexes.\n",
    "\n",
    "Changing items : Once a set is created, we cannot change the items but we can add items."
   ]
  },
  {
   "cell_type": "code",
   "execution_count": 46,
   "metadata": {},
   "outputs": [
    {
     "data": {
      "text/plain": [
       "{10, 20, 30, 40, 'Shravya', 'edureka', 'qwerty'}"
      ]
     },
     "execution_count": 46,
     "metadata": {},
     "output_type": "execute_result"
    }
   ],
   "source": [
    "seteg.add(\"Shravya\") # adding items to the set.\n",
    "seteg.update([\"qwerty\",]) # if comma is not used then it would add qwerty by splitting it into letters.\n",
    "seteg\n",
    "#update() could be used when we'd like to add a list to the set.\n",
    "#len() could be used to get the number of items\n"
   ]
  },
  {
   "cell_type": "markdown",
   "metadata": {},
   "source": [
    "remove() and discard() are two functions to remove items from the set.Discard does not raise an error when item is unavilable.\n",
    "\n",
    "seteg.remove(\"Item\") # syntax.\n",
    "\n",
    "pop() would delete the last element and since this is unordered we'd not know what element it is. \n",
    "\n",
    "del seteg # would delete the whole set.\n",
    "\n",
    "set() function removes the duplicates in the given values."
   ]
  },
  {
   "cell_type": "code",
   "execution_count": 48,
   "metadata": {},
   "outputs": [
    {
     "data": {
      "text/plain": [
       "{1, 10, 2, 20, 3, 30, 40, 'Shravya', 'edureka', 'qwerty'}"
      ]
     },
     "execution_count": 48,
     "metadata": {},
     "output_type": "execute_result"
    }
   ],
   "source": [
    "set1 = {1,2,3}\n",
    "set3 = seteg.union(set1) #joins both the sets ignoring the duplicates.\n",
    "set3\n",
    "set1.update(seteg) # adds the elements of seteg to set1 ignoring the duplicates.\n",
    "set1"
   ]
  },
  {
   "cell_type": "markdown",
   "metadata": {},
   "source": [
    "Range : A function in python which is used when a specific action has to be performed a specific number of times.\n",
    "\n",
    "range(start,end,step) an example would be printing series of numbers.end value is excluded."
   ]
  },
  {
   "cell_type": "code",
   "execution_count": 51,
   "metadata": {},
   "outputs": [
    {
     "name": "stdout",
     "output_type": "stream",
     "text": [
      "0 1 2 3 4 5 6 7 8 9 \n"
     ]
    }
   ],
   "source": [
    "# printing a number \n",
    "# default value of start is 0 & step is 1.\n",
    "for i in range(10): \n",
    "    print(i, end =\" \") \n",
    "print() "
   ]
  },
  {
   "cell_type": "markdown",
   "metadata": {},
   "source": [
    "Points to remember about range():\n",
    "- range() function only works with the integers i.e. whole numbers.\n",
    "\n",
    "- All argument must be integers. User can not pass a string or float number or any other type in a start, stop and step argument of a range().\n",
    "\n",
    "- All three arguments can be positive or negative.\n",
    "\n",
    "- The step value must not be zero. If a step is zero python raises a ValueError exception.\n",
    "\n",
    "- range() is a type in Python"
   ]
  },
  {
   "cell_type": "code",
   "execution_count": 53,
   "metadata": {},
   "outputs": [
    {
     "data": {
      "text/plain": [
       "1"
      ]
     },
     "execution_count": 53,
     "metadata": {},
     "output_type": "execute_result"
    }
   ],
   "source": [
    "type(range(3)) \n",
    "\n",
    "# accessing a items \n",
    "range(3)[1] "
   ]
  },
  {
   "cell_type": "markdown",
   "metadata": {},
   "source": [
    "Concatenation of two range() functions : \n",
    "    \n",
    "    The result from two range() functions can be concatenated by using the chain() method of itertools module. The chain() method is used to print all the values in iterable targets one after another mentioned in its arguments.\n",
    "\n",
    "\n"
   ]
  },
  {
   "cell_type": "code",
   "execution_count": 54,
   "metadata": {
    "scrolled": true
   },
   "outputs": [
    {
     "name": "stdout",
     "output_type": "stream",
     "text": [
      "Concatenating the result\n",
      "0 1 2 3 4 10 12 14 16 18 "
     ]
    }
   ],
   "source": [
    "# Python program to concatenate \n",
    "# the result of two range functions \n",
    "  \n",
    "  \n",
    "from itertools import chain \n",
    "  \n",
    "  \n",
    "# Using chain method \n",
    "print(\"Concatenating the result\") \n",
    "res = chain(range(5), range(10, 20, 2)) \n",
    "  \n",
    "for i in res: \n",
    "        print(i, end=\" \")"
   ]
  }
 ],
 "metadata": {
  "kernelspec": {
   "display_name": "Python 3",
   "language": "python",
   "name": "python3"
  },
  "language_info": {
   "codemirror_mode": {
    "name": "ipython",
    "version": 3
   },
   "file_extension": ".py",
   "mimetype": "text/x-python",
   "name": "python",
   "nbconvert_exporter": "python",
   "pygments_lexer": "ipython3",
   "version": "3.7.0"
  }
 },
 "nbformat": 4,
 "nbformat_minor": 2
}
